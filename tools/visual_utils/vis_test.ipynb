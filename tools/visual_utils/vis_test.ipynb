{
 "cells": [
  {
   "cell_type": "code",
   "execution_count": 4,
   "metadata": {},
   "outputs": [],
   "source": [
    "import numpy as np\n",
    "from pathlib import Path as P\n",
    "import pickle\n",
    "# from visualize_utils import make_vid\n",
    "import cv2\n",
    "\n",
    "    \n",
    "result_path = P('/root/dj/code/CenterPoint-KITTI/output/IA-SSD-GAN-vod-aug/debug/eval/checkpoint_epoch_11')\n",
    "data_path = P('/root/dj/code/CenterPoint-KITTI/data/vod_radar/training/velodyne')\n",
    "gt_img_path = result_path/'gt_img'\n",
    "dt_img_path = result_path/'dt_img'\n",
    "gt_img_path.mkdir(exist_ok=True)\n",
    "dt_img_path.mkdir(exist_ok=True)\n"
   ]
  },
  {
   "cell_type": "code",
   "execution_count": 2,
   "metadata": {},
   "outputs": [],
   "source": [
    "data_ids = np.loadtxt(str(result_path / 'frame_ids.txt'), delimiter=',', dtype=str)[:-1]\n",
    "\n",
    "with open(str(result_path / 'gt.pkl'), 'rb') as f:\n",
    "    gt = pickle.load(f)\n",
    "\n",
    "# load det\n",
    "with open(str(result_path / 'dt.pkl'), 'rb') as f:\n",
    "    dt = pickle.load(f)"
   ]
  },
  {
   "cell_type": "code",
   "execution_count": 3,
   "metadata": {},
   "outputs": [],
   "source": [
    "from vod.visualization.settings import label_color_palette_2d\n",
    "from matplotlib.lines import Line2D\n",
    "\n",
    "keys = list(gt.keys())\n",
    "cls_name = ['Car','Pedestrian', 'Cyclist', 'Others']\n",
    "color_dict = {}\n",
    "for i, v in enumerate(cls_name):\n",
    "    color_dict[v] = label_color_palette_2d[v]"
   ]
  },
  {
   "cell_type": "code",
   "execution_count": null,
   "metadata": {},
   "outputs": [],
   "source": [
    "\n",
    "def get_radar(fname):\n",
    "    assert fname.exists()\n",
    "    radar_point_cloud = np.fromfile(str(fname), dtype=np.float32).reshape(-1, 7)\n",
    "    return radar_point_cloud\n",
    "\n",
    "def get_lidar(fname):\n",
    "    assert fname.exists()\n",
    "    radar_point_cloud = np.fromfile(str(fname), dtype=np.float32).reshape(-1, 4)\n",
    "    return radar_point_cloud\n",
    "\n",
    "def pcd_formating(pcd):\n",
    "    num_pts = pcd.shape[0]\n",
    "    zeros_pad = np.zeros([num_pts, 1])\n",
    "    final_pcd = np.concatenate((zeros_pad, pcd), axis=1)\n",
    "    return final_pcd"
   ]
  },
  {
   "cell_type": "code",
   "execution_count": null,
   "metadata": {},
   "outputs": [],
   "source": [
    "from visualize_point_based import drawBEV\n",
    "import matplotlib.pyplot as plt\n",
    "test_idx = 0\n",
    "\n",
    "pcd_fname = data_path / (keys[test_idx] + '.bin')\n",
    "\n",
    "radar_pcd = get_radar(pcd_fname)\n",
    "radar_pcd = pcd_formating(radar_pcd)\n",
    "plt.rcParams['figure.dpi'] = 150\n",
    "ax = plt.gca()\n",
    "\n",
    "\n",
    "drawBEV(ax, radar_pcd, None, dt[keys[test_idx]], color_dict, keys[test_idx], 'pred')\n",
    "plt.xlim(-0,75)\n",
    "plt.ylim(-30,30)\n",
    "plt.show()\n"
   ]
  },
  {
   "cell_type": "code",
   "execution_count": null,
   "metadata": {},
   "outputs": [],
   "source": [
    "ax = plt.gca()\n",
    "drawBEV(ax, radar_pcd, None, gt[keys[test_idx]], color_dict, keys[test_idx], 'gt')\n",
    "plt.xlim(-0,75)\n",
    "plt.ylim(-30,30)\n",
    "plt.show()\n"
   ]
  },
  {
   "cell_type": "code",
   "execution_count": 12,
   "metadata": {},
   "outputs": [],
   "source": [
    "from tqdm import tqdm\n",
    "def saveODImgs(frame_ids, anno, data_path, img_path, color_dict, is_radar=True, title='pred'):\n",
    "    plt.rcParams['figure.dpi'] = 150\n",
    "    for fid in tqdm(frame_ids):\n",
    "        pcd_fname = data_path / (fid + '.bin')\n",
    "        vis_pcd = get_radar(pcd_fname) if is_radar else get_lidar(pcd_fname)\n",
    "        vis_pcd = pcd_formating(vis_pcd)\n",
    "        ax = plt.gca()\n",
    "        drawBEV(ax, vis_pcd, None, anno[fid], color_dict, fid, title)\n",
    "        plt.xlim(-0,75)\n",
    "        plt.ylim(-30,30)\n",
    "        img_fname = img_path / (fid + '.png')\n",
    "        plt.savefig(str(img_fname))\n",
    "        plt.cla()"
   ]
  },
  {
   "cell_type": "code",
   "execution_count": 13,
   "metadata": {},
   "outputs": [
    {
     "ename": "NameError",
     "evalue": "name 'data_ids' is not defined",
     "output_type": "error",
     "traceback": [
      "\u001b[0;31m---------------------------------------------------------------------------\u001b[0m",
      "\u001b[0;31mNameError\u001b[0m                                 Traceback (most recent call last)",
      "\u001b[1;32m/root/dj/code/CenterPoint-KITTI/tools/visual_utils/vis_test.ipynb Cell 8\u001b[0m in \u001b[0;36m<cell line: 1>\u001b[0;34m()\u001b[0m\n\u001b[0;32m----> <a href='vscode-notebook-cell://ssh-remote%2Bcenterpoint-kitti/root/dj/code/CenterPoint-KITTI/tools/visual_utils/vis_test.ipynb#X16sdnNjb2RlLXJlbW90ZQ%3D%3D?line=0'>1</a>\u001b[0m saveODImgs(data_ids, gt, data_path, gt_img_path, \\\n\u001b[1;32m      <a href='vscode-notebook-cell://ssh-remote%2Bcenterpoint-kitti/root/dj/code/CenterPoint-KITTI/tools/visual_utils/vis_test.ipynb#X16sdnNjb2RlLXJlbW90ZQ%3D%3D?line=1'>2</a>\u001b[0m     color_dict, is_radar\u001b[39m=\u001b[39m\u001b[39mTrue\u001b[39;00m, title\u001b[39m=\u001b[39m\u001b[39m'\u001b[39m\u001b[39mgt\u001b[39m\u001b[39m'\u001b[39m)\n",
      "\u001b[0;31mNameError\u001b[0m: name 'data_ids' is not defined"
     ]
    }
   ],
   "source": [
    "saveODImgs(data_ids, gt, data_path, gt_img_path, \\\n",
    "    color_dict, is_radar=True, title='gt')"
   ]
  },
  {
   "cell_type": "code",
   "execution_count": null,
   "metadata": {},
   "outputs": [],
   "source": [
    "saveODImgs(data_ids, dt, data_path, dt_img_path, \\\n",
    "    color_dict, is_radar=True, title='pred CFAR')"
   ]
  },
  {
   "cell_type": "code",
   "execution_count": 8,
   "metadata": {},
   "outputs": [],
   "source": [
    "from glob import glob\n",
    "gt_imgs = sorted(glob(str(gt_img_path/'*.png')))\n",
    "dt_imgs = sorted(glob(str(dt_img_path/'*.png')))"
   ]
  },
  {
   "cell_type": "code",
   "execution_count": 11,
   "metadata": {},
   "outputs": [],
   "source": [
    "\n",
    "\n",
    "def make_vid(imgs, vid_fname, fps=15):\n",
    "    out = None\n",
    "    for fname in imgs:\n",
    "        i = cv2.imread(fname)\n",
    "        if out is None:\n",
    "            h, w, _ = i.shape\n",
    "            size = (w, h)\n",
    "            fourcc = cv2.VideoWriter_fourcc(*'mp4v')\n",
    "            out = cv2.VideoWriter(str(vid_fname), fourcc, fps, size)\n",
    "            \n",
    "        out.write(i)\n",
    "    out.release()\n",
    "make_vid(gt_imgs, result_path/'gt.mp4', fps=10)\n",
    "make_vid(dt_imgs, result_path/'dt.mp4', fps=10)"
   ]
  },
  {
   "cell_type": "code",
   "execution_count": null,
   "metadata": {},
   "outputs": [],
   "source": []
  }
 ],
 "metadata": {
  "kernelspec": {
   "display_name": "Python 3.8.5 ('base')",
   "language": "python",
   "name": "python3"
  },
  "language_info": {
   "codemirror_mode": {
    "name": "ipython",
    "version": 3
   },
   "file_extension": ".py",
   "mimetype": "text/x-python",
   "name": "python",
   "nbconvert_exporter": "python",
   "pygments_lexer": "ipython3",
   "version": "3.8.5"
  },
  "orig_nbformat": 4,
  "vscode": {
   "interpreter": {
    "hash": "d4d1e4263499bec80672ea0156c357c1ee493ec2b1c70f0acce89fc37c4a6abe"
   }
  }
 },
 "nbformat": 4,
 "nbformat_minor": 2
}
