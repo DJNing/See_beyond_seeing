{
 "cells": [
  {
   "cell_type": "code",
   "execution_count": null,
   "metadata": {},
   "outputs": [],
   "source": [
    "import matplotlib.pyplot as plt\n",
    "import pickle \n",
    "from pathlib import Path as P\n",
    "from matplotlib.patches import Rectangle as Rec\n",
    "import numpy as np\n",
    "from pcdet.utils import calibration_kitti\n",
    "from matplotlib.patches import Patch\n",
    "from matplotlib.lines import Line2D\n",
    "from tqdm import tqdm\n",
    "from vod.visualization.settings import label_color_palette_2d\n",
    "cls_name = ['Car','Pedestrian', 'Cyclist', 'Others']\n",
    "\n",
    "\n",
    "\n",
    "# trans-ssd\n",
    "root_path = P('/root/dj/code/CenterPoint-KITTI/output/IA-SSD-vod-radar/iassd_128_vcomp/eval/checkpoint_epoch_100')\n",
    "# ia-ssd\n",
    "# root_path = P('/root/dj/code/CenterPoint-KITTI/output/IA-SSD-vod-radar/iassd_128_all/eval/checkpoint_epoch_100')\n",
    "\n",
    "# root_path = P('/root/dj/code/CenterPoint-KITTI/output/pointpillar_vod_lidar/filter5/eval/eval_with_train/epoch_80/val')\n",
    "\n",
    "color_dict = {}\n",
    "\n",
    "gt_save_dir = root_path / 'GT_bev'\n",
    "pred_save_dir = root_path / 'pred_bev'\n",
    "gt_save_dir.mkdir(exist_ok=True)\n",
    "pred_save_dir.mkdir(exist_ok=True)\n",
    "\n",
    "for i, v in enumerate(cls_name):\n",
    "    color_dict[v] = label_color_palette_2d[v]\n",
    "# load gt\n",
    "with open(str(root_path / 'gt.pkl'), 'rb') as f:\n",
    "    gt = pickle.load(f)\n",
    "\n",
    "# load det\n",
    "with open(str(root_path / 'dt.pkl'), 'rb') as f:\n",
    "    dt = pickle.load(f)\n",
    "\n",
    "# load centers\n",
    "with open(str(root_path / 'centers.pkl'), 'rb') as f:\n",
    "    centers = pickle.load(f)\n",
    "\n",
    "# load centers_origin\n",
    "with open(str(root_path / 'centers_origin.pkl'), 'rb') as f:\n",
    "    centers_origin = pickle.load(f)\n",
    "\n",
    "# load input points (after sampling to 512 points)\n",
    "with open(str(root_path / 'points.pkl'), 'rb') as f:\n",
    "    points = pickle.load(f)\n",
    "\n",
    "data_dict = {}\n",
    "def load_data(name):\n",
    "    with open(str(root_path / (name + '.pkl')), 'rb') as f:\n",
    "        data = pickle.load(f)\n",
    "    return data\n",
    "save_name_list = ('centers', 'centers_origin', 'points', 'match', 'lidar_center', 'lidar_preds', 'radar_preds', 'radar_label')\n",
    "for name in save_name_list:\n",
    "    data_dict[name] = load_data(name)"
   ]
  },
  {
   "cell_type": "code",
   "execution_count": 7,
   "metadata": {},
   "outputs": [],
   "source": [
    "import torch\n",
    "a = torch.ones([3, 100])\n",
    "b = torch.ones([3])\n",
    "x = torch.rand([100])\n",
    "a.requires_grad=True\n",
    "b.requires_grad=True\n",
    "y = torch.matmul(a, x) + b\n"
   ]
  },
  {
   "cell_type": "code",
   "execution_count": 9,
   "metadata": {},
   "outputs": [],
   "source": [
    "torch.sum(y-y).backward()"
   ]
  },
  {
   "cell_type": "code",
   "execution_count": 12,
   "metadata": {},
   "outputs": [
    {
     "data": {
      "text/plain": [
       "tensor([0.1259, 0.2659, 0.8416, 0.6361, 0.1443, 0.8434, 0.8892, 0.6968, 0.6193,\n",
       "        0.7778, 0.6655, 0.7883, 0.5231, 0.7037, 0.2056, 0.2626, 0.7065, 0.9112,\n",
       "        0.5094, 0.7614, 0.8334, 0.9514, 0.8649, 0.8194, 0.7768, 0.8764, 0.5492,\n",
       "        0.3321, 0.4505, 0.8827, 0.4241, 0.8195, 0.9255, 0.9113, 0.1023, 0.6410,\n",
       "        0.9555, 0.6527, 0.2201, 0.6079, 0.7500, 0.2696, 0.6582, 0.2670, 0.6498,\n",
       "        0.0467, 0.7043, 0.9069, 0.2330, 0.1752, 0.9318, 0.7168, 0.6628, 0.2775,\n",
       "        0.2274, 0.5471, 0.8132, 0.7039, 0.3953, 0.3197, 0.4492, 0.0604, 0.4111,\n",
       "        0.3725, 0.2357, 0.4850, 0.3977, 0.0125, 0.2277, 0.8671, 0.5273, 0.6187,\n",
       "        0.2284, 0.1940, 0.6824, 0.0204, 0.5374, 0.2875, 0.8986, 0.9192, 0.0473,\n",
       "        0.6338, 0.3509, 0.2378, 0.0737, 0.3462, 0.7340, 0.2740, 0.8625, 0.4232,\n",
       "        0.6813, 0.6709, 0.7650, 0.8312, 0.8658, 0.8415, 0.9013, 0.3326, 0.4295,\n",
       "        0.2092])"
      ]
     },
     "execution_count": 12,
     "metadata": {},
     "output_type": "execute_result"
    }
   ],
   "source": [
    "x"
   ]
  },
  {
   "cell_type": "code",
   "execution_count": null,
   "metadata": {},
   "outputs": [],
   "source": []
  }
 ],
 "metadata": {
  "kernelspec": {
   "display_name": "Python 3.8.5 ('base')",
   "language": "python",
   "name": "python3"
  },
  "language_info": {
   "codemirror_mode": {
    "name": "ipython",
    "version": 3
   },
   "file_extension": ".py",
   "mimetype": "text/x-python",
   "name": "python",
   "nbconvert_exporter": "python",
   "pygments_lexer": "ipython3",
   "version": "3.8.5"
  },
  "orig_nbformat": 4,
  "vscode": {
   "interpreter": {
    "hash": "d4d1e4263499bec80672ea0156c357c1ee493ec2b1c70f0acce89fc37c4a6abe"
   }
  }
 },
 "nbformat": 4,
 "nbformat_minor": 2
}
